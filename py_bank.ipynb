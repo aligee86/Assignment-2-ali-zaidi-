{
 "cells": [
  {
   "cell_type": "code",
   "execution_count": 2,
   "id": "9a5d75b4",
   "metadata": {},
   "outputs": [],
   "source": [
    "import os"
   ]
  },
  {
   "cell_type": "code",
   "execution_count": 5,
   "id": "3953490b",
   "metadata": {},
   "outputs": [],
   "source": [
    "import csv"
   ]
  },
  {
   "cell_type": "code",
   "execution_count": 7,
   "id": "ecacdf4f",
   "metadata": {},
   "outputs": [],
   "source": [
    "csvfile:'C:/Users/fizza/Desktop/budget_data.csv'"
   ]
  },
  {
   "cell_type": "code",
   "execution_count": 9,
   "id": "868acd70",
   "metadata": {},
   "outputs": [],
   "source": [
    "with open(\"C:/Users/fizza/Desktop/budget_data.csv\") as csvfile:\n",
    "    csvreader = csv.reader(csvfile, delimiter = ',')\n",
    "    header = next(csvreader)\n",
    "    #creating empty lists to add the csv values to \n",
    "    month_count = []\n",
    "    profit = []\n",
    "    change_profit = []\n",
    "    \n",
    "                      \n",
    "    #iterate through the values and add to empty list \n",
    "    for row in csvreader:\n",
    "        month_count.append(row[0])\n",
    "        profit.append(int(row[1]))\n",
    "    for i in range(len(profit)-1):\n",
    "        change_profit.append(profit[i+1]-profit[i])\n",
    "                      \n",
    "#evaluate the max & min from the list\n",
    "increase = max(change_profit)\n",
    "decrease = min(change_profit)\n",
    "\n",
    "#utilizing the index, \n",
    "month_increase = change_profit.index(max(change_profit))+1\n",
    "month_decrease = change_profit.index(min(change_profit))+1"
   ]
  },
  {
   "cell_type": "code",
   "execution_count": 10,
   "id": "3693efa3",
   "metadata": {},
   "outputs": [
    {
     "name": "stdout",
     "output_type": "stream",
     "text": [
      "Financial Analysis\n",
      "------------------------\n",
      "Total Months:86\n",
      "Total: $38382578\n",
      "Average Change: -2315.12\n",
      "Greatest Increase in Profits: Feb-12 ($1926159)\n",
      "Greatest Decrease in Profits: Sep-13 ($-2196167)\n"
     ]
    }
   ],
   "source": [
    "print(\"Financial Analysis\")\n",
    "print(\"------------------------\")\n",
    "print(f\"Total Months:{len(month_count)}\")\n",
    "print(f\"Total: ${sum(profit)}\")\n",
    "print(f\"Average Change: {round(sum(change_profit)/len(change_profit),2)}\")\n",
    "print(f\"Greatest Increase in Profits: {month_count[month_increase]} (${(str(increase))})\")\n",
    "print(f\"Greatest Decrease in Profits: {month_count[month_decrease]} (${(str(decrease))})\")"
   ]
  }
 ],
 "metadata": {
  "kernelspec": {
   "display_name": "Python 3 (ipykernel)",
   "language": "python",
   "name": "python3"
  },
  "language_info": {
   "codemirror_mode": {
    "name": "ipython",
    "version": 3
   },
   "file_extension": ".py",
   "mimetype": "text/x-python",
   "name": "python",
   "nbconvert_exporter": "python",
   "pygments_lexer": "ipython3",
   "version": "3.9.12"
  }
 },
 "nbformat": 4,
 "nbformat_minor": 5
}
